{
 "cells": [
  {
   "cell_type": "code",
   "execution_count": 1,
   "id": "8a88d997",
   "metadata": {},
   "outputs": [
    {
     "name": "stdout",
     "output_type": "stream",
     "text": [
      "Текущий LTV юзера: 2.02\n",
      "LTV на полгода: nan\n"
     ]
    },
    {
     "data": {
      "image/png": "[encoded data removed]",
      "text/plain": [
       "<Figure size 432x288 with 1 Axes>"
      ]
     },
     "metadata": {
      "needs_background": "light"
     },
     "output_type": "display_data"
    },
    {
     "name": "stdout",
     "output_type": "stream",
     "text": [
      "ROMI на 4 недели: -1.0\n",
      "ROMI на полгода: -1.0\n"
     ]
    }
   ],
   "source": [
    "import pandas as pd\n",
    "from datetime import datetime\n",
    "import numpy as np\n",
    "import matplotlib.pyplot as plt\n",
    "\n",
    "# загружаем данные\n",
    "df = pd.read_excel(r'C:\\Users\\Oleksii Cherkaskyi\\OneDrive\\Desktop\\test case data analyst.xlsx')\n",
    "\n",
    "# преобразовываем данные\n",
    "df['purchase_date'] = pd.to_datetime(df['purchase_date'])\n",
    "df['week'] = df['purchase_date'].dt.to_period('W')\n",
    "df['purchase_date'].dt.isocalendar()\n",
    "df['num_week'] = df['purchase_date'].dt.isocalendar().week\n",
    "\n",
    "# размер когорт\n",
    "cohort_sizes = df.groupby('week')['user_id'].nunique()\n",
    "\n",
    "# выручка по когортам\n",
    "df['revenue'] = df['is_trial_period'].apply(lambda x: 0 if x == True else 4.99)\n",
    "\n",
    "cohorts = df.groupby(['week', 'purchase_date', 'num_week'])['revenue'].sum().reset_index()\n",
    "\n",
    "# обьединяем таблицы\n",
    "cohorts = cohorts.merge(cohort_sizes, on='week')\n",
    "cohorts.rename(columns={'user_id': 'cohort_size'}, inplace=True)\n",
    "\n",
    "# возраст когорт в неделях\n",
    "cohorts['purchase_date'] = cohorts['purchase_date'].dt.to_period('W')\n",
    "cohorts['age_week'] = (cohorts['purchase_date'] - cohorts['week']).apply(lambda x: x.n)\n",
    "\n",
    "# LTV\n",
    "cohorts['ltv'] = cohorts['revenue'] / cohorts['cohort_size']\n",
    "\n",
    "# Рассчитываем текущий LTV\n",
    "current_ltv = cohorts.groupby('week')['ltv'].sum().mean()\n",
    "print(f'Текущий LTV юзера: {current_ltv:.2f}')\n",
    "\n",
    "# Рассчитываем LTV на полгода\n",
    "ltv_forecast = cohorts.groupby('week')['ltv'].sum().rolling(26).mean().dropna().mean()\n",
    "print(f'LTV на полгода: {ltv_forecast:.2f}')\n",
    "\n",
    "# Строим графики фактического и прогнозируемого LTV\n",
    "data = cohorts.groupby(['week', 'num_week'])['ltv'].sum().reset_index()\n",
    "alpha = 0.5\n",
    "ltv_smooth = [data['ltv'][0]]\n",
    "for i in range(1, len(data)):\n",
    "    ltv_smooth.append(alpha * ltv_smooth[i - 1] + (1 - alpha) * data['ltv'][i])\n",
    "data['ltv_smooth'] = ltv_smooth\n",
    "plt.plot(data['num_week'], data['ltv'], label='Фактический LTV')\n",
    "plt.plot(data['num_week'], data['ltv_smooth'], label='Прогнозируемый LTV')\n",
    "plt.legend()\n",
    "plt.show()\n",
    "# define start and end dates\n",
    "start_date_4weeks = pd.to_datetime('2022-01-01')\n",
    "end_date_4weeks = pd.to_datetime('2022-01-28')\n",
    "start_date_6months = pd.to_datetime('2022-01-01')\n",
    "end_date_6months = pd.to_datetime('2022-06-30')\n",
    "#ROMI на 4 недели\n",
    "cost_per_user = 6\n",
    "paid_users_4weeks = df[(df['purchase_date'] >= start_date_4weeks) & (df['purchase_date'] <= end_date_4weeks) & (df['is_trial_period'] == False)]['user_id'].nunique()\n",
    "roi_4weeks = (paid_users_4weeks * 4.99 - cost_per_user * df['user_id'].nunique()) / (cost_per_user * df['user_id'].nunique())\n",
    "print(\"ROMI на 4 недели:\", roi_4weeks)\n",
    "\n",
    "#ROMI на полгода\n",
    "paid_users_6months = df[(df['purchase_date'] >= start_date_6months) & (df['purchase_date'] <= end_date_6months) & (df['is_trial_period'] == False)]['user_id'].nunique()\n",
    "roi_6months = (paid_users_6months * 4.99 - cost_per_user * df['user_id'].nunique()) / (cost_per_user * df['user_id'].nunique())\n",
    "print(\"ROMI на полгода:\", roi_6months)"
   ]
  },
  {
   "cell_type": "code",
   "execution_count": null,
   "id": "4eafd511",
   "metadata": {},
   "outputs": [],
   "source": []
  }
 ],
 "metadata": {
  "kernelspec": {
   "display_name": "Python 3 (ipykernel)",
   "language": "python",
   "name": "python3"
  },
  "language_info": {
   "codemirror_mode": {
    "name": "ipython",
    "version": 3
   },
   "file_extension": ".py",
   "mimetype": "text/x-python",
   "name": "python",
   "nbconvert_exporter": "python",
   "pygments_lexer": "ipython3",
   "version": "3.9.12"
  }
 },
 "nbformat": 4,
 "nbformat_minor": 5
}
